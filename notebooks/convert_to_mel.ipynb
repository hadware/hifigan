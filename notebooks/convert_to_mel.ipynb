{
 "cells": [
  {
   "cell_type": "code",
   "id": "initial_id",
   "metadata": {
    "collapsed": true,
    "ExecuteTime": {
     "end_time": "2024-12-25T02:01:45.881267Z",
     "start_time": "2024-12-25T02:01:45.878792Z"
    }
   },
   "source": [
    "from pathlib import Path\n",
    "\n",
    "import torchaudio\n",
    "import torchaudio.transforms as T\n",
    "from torchaudio import transforms\n",
    "import numpy as np\n",
    "\n",
    "wav_path = Path(\"sample.wav\")"
   ],
   "outputs": [],
   "execution_count": 12
  },
  {
   "metadata": {
    "ExecuteTime": {
     "end_time": "2024-12-25T01:57:40.315848Z",
     "start_time": "2024-12-25T01:57:40.310068Z"
    }
   },
   "cell_type": "code",
   "source": [
    "mel_spectro = transforms.MelSpectrogram(\n",
    "    sample_rate=16000,\n",
    "    n_fft=1024,\n",
    "    win_length=1024,\n",
    "    hop_length=160,\n",
    "    center=False,\n",
    "    power=1.0,\n",
    "    norm=\"slaney\",\n",
    "    n_mels=128,\n",
    "    mel_scale=\"slaney\",\n",
    ")"
   ],
   "id": "ec34c9a2d1fae297",
   "outputs": [],
   "execution_count": 4
  },
  {
   "metadata": {
    "ExecuteTime": {
     "end_time": "2024-12-25T02:01:47.758099Z",
     "start_time": "2024-12-25T02:01:47.734285Z"
    }
   },
   "cell_type": "code",
   "source": [
    "waveform, sample_rate = torchaudio.load(wav_path)  # Charge à son taux d'origine\n",
    "new_sample_rate = 16000\n",
    "\n",
    "if sample_rate != new_sample_rate:\n",
    "    resampler = T.Resample(orig_freq=sample_rate, new_freq=new_sample_rate)\n",
    "    waveform = resampler(waveform)\n",
    "\n",
    "mel = mel_spectro(waveform.unsqueeze(0)).squeeze()\n",
    "\n",
    "np.save(wav_path.with_suffix(\".npy\"), mel.numpy())\n"
   ],
   "id": "902e10473b78fb9f",
   "outputs": [],
   "execution_count": 13
  }
 ],
 "metadata": {
  "kernelspec": {
   "display_name": "Python 3",
   "language": "python",
   "name": "python3"
  },
  "language_info": {
   "codemirror_mode": {
    "name": "ipython",
    "version": 2
   },
   "file_extension": ".py",
   "mimetype": "text/x-python",
   "name": "python",
   "nbconvert_exporter": "python",
   "pygments_lexer": "ipython2",
   "version": "2.7.6"
  }
 },
 "nbformat": 4,
 "nbformat_minor": 5
}
